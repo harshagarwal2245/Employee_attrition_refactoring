{
 "cells": [
  {
   "cell_type": "code",
   "execution_count": 1,
   "id": "e8c5fa2f-cddd-48ae-ac83-f72aceb77a2f",
   "metadata": {},
   "outputs": [],
   "source": [
    "import os\n",
    "import pandas as pd"
   ]
  },
  {
   "cell_type": "code",
   "execution_count": 2,
   "id": "f95b259f-e185-4605-b45a-925f5867e8a0",
   "metadata": {},
   "outputs": [],
   "source": [
    "df1=pd.read_csv(\"../data_given/employee.csv\") \n",
    "df2=pd.read_csv(\"../data/raw/employee.csv\")           "
   ]
  },
  {
   "cell_type": "code",
   "execution_count": 6,
   "id": "090a92b7-447b-4a3e-bd5a-353b89f5e00a",
   "metadata": {},
   "outputs": [],
   "source": [
    "df2.head(2)\n",
    "df2.drop(\"Attrition\",axis=1,inplace=True)"
   ]
  },
  {
   "cell_type": "code",
   "execution_count": 23,
   "id": "6443e25b-9c9a-48fc-817a-c30ea5eb8235",
   "metadata": {},
   "outputs": [],
   "source": [
    "overview=df.describe()\n",
    "overview.loc[[\"min\",\"max\"]].to_json"
   ]
  },
  {
   "cell_type": "code",
   "execution_count": 7,
   "id": "513f5ea0-d4cc-41d6-be96-635eafe63567",
   "metadata": {},
   "outputs": [],
   "source": [
    "df3=df2.describe()"
   ]
  },
  {
   "cell_type": "markdown",
   "id": "b269f24c-4c1a-4f68-8a21-3bf75a0c584d",
   "metadata": {},
   "source": [
    "df3=df2.describe()"
   ]
  },
  {
   "cell_type": "code",
   "execution_count": 8,
   "id": "7e77b52c-bf6c-424c-a966-c97929861719",
   "metadata": {},
   "outputs": [],
   "source": [
    "df3.loc[[\"min\",\"max\"]].to_json(\"schema_in.json\")"
   ]
  },
  {
   "cell_type": "code",
   "execution_count": null,
   "id": "984a69ea-8e5f-454b-848a-452af52c363f",
   "metadata": {},
   "outputs": [],
   "source": []
  }
 ],
 "metadata": {
  "kernelspec": {
   "display_name": "Python 3",
   "language": "python",
   "name": "python3"
  },
  "language_info": {
   "codemirror_mode": {
    "name": "ipython",
    "version": 3
   },
   "file_extension": ".py",
   "mimetype": "text/x-python",
   "name": "python",
   "nbconvert_exporter": "python",
   "pygments_lexer": "ipython3",
   "version": "3.9.1"
  }
 },
 "nbformat": 4,
 "nbformat_minor": 5
}
