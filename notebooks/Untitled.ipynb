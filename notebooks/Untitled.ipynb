{
 "cells": [
  {
   "cell_type": "code",
   "execution_count": 1,
   "id": "e8c5fa2f-cddd-48ae-ac83-f72aceb77a2f",
   "metadata": {},
   "outputs": [],
   "source": [
    "import os\n",
    "import pandas as pd"
   ]
  },
  {
   "cell_type": "code",
   "execution_count": 4,
   "id": "f95b259f-e185-4605-b45a-925f5867e8a0",
   "metadata": {},
   "outputs": [],
   "source": [
    "df=pd.read_csv(\"../data/raw/employee.csv\")"
   ]
  },
  {
   "cell_type": "code",
   "execution_count": 5,
   "id": "090a92b7-447b-4a3e-bd5a-353b89f5e00a",
   "metadata": {},
   "outputs": [
    {
     "data": {
      "text/plain": [
       "Index(['Age', 'Attrition', 'BusinessTravel', 'DailyRate', 'Department',\n",
       "       'DistanceFromHome', 'Education', 'EducationField', 'EmployeeNumber',\n",
       "       'EnvironmentSatisfaction', 'Gender', 'HourlyRate', 'JobInvolvement',\n",
       "       'JobLevel', 'JobRole', 'JobSatisfaction', 'MaritalStatus',\n",
       "       'MonthlyIncome', 'MonthlyRate', 'NumCompaniesWorked', 'OverTime',\n",
       "       'PercentSalaryHike', 'PerformanceRating', 'RelationshipSatisfaction',\n",
       "       'StockOptionLevel', 'TotalWorkingYears', 'TrainingTimesLastYear',\n",
       "       'WorkLifeBalance', 'YearsAtCompany', 'YearsInCurrentRole',\n",
       "       'YearsSinceLastPromotion', 'YearsWithCurrManager'],\n",
       "      dtype='object')"
      ]
     },
     "execution_count": 5,
     "metadata": {},
     "output_type": "execute_result"
    }
   ],
   "source": [
    "df.columns"
   ]
  },
  {
   "cell_type": "code",
   "execution_count": 14,
   "id": "6443e25b-9c9a-48fc-817a-c30ea5eb8235",
   "metadata": {},
   "outputs": [],
   "source": [
    "overview=df.describe()\n",
    "overview.loc[[\"min\",\"max\"]].to_json(\"schema_in.json\")"
   ]
  },
  {
   "cell_type": "code",
   "execution_count": 17,
   "id": "ccfe14f7-4e32-4d1b-86ea-5f601c1cba60",
   "metadata": {},
   "outputs": [],
   "source": [
    "class NotInRange(Exception):\n",
    "    def __init__(self,input_,message=\"value not in range\"):\n",
    "        self.input_ = input_\n",
    "        self.message=message\n",
    "        super().__init__(self.)"
   ]
  },
  {
   "cell_type": "code",
   "execution_count": 18,
   "id": "7e77b52c-bf6c-424c-a966-c97929861719",
   "metadata": {},
   "outputs": [
    {
     "ename": "CustomError",
     "evalue": "",
     "output_type": "error",
     "traceback": [
      "\u001b[1;31m---------------------------------------------------------------------------\u001b[0m",
      "\u001b[1;31mCustomError\u001b[0m                               Traceback (most recent call last)",
      "\u001b[1;32m<ipython-input-18-dfca0b041b3d>\u001b[0m in \u001b[0;36m<module>\u001b[1;34m\u001b[0m\n\u001b[1;32m----> 1\u001b[1;33m \u001b[1;32mraise\u001b[0m \u001b[0mCustomError\u001b[0m\u001b[1;33m\u001b[0m\u001b[1;33m\u001b[0m\u001b[0m\n\u001b[0m",
      "\u001b[1;31mCustomError\u001b[0m: "
     ]
    }
   ],
   "source": [
    "raise CustomError"
   ]
  },
  {
   "cell_type": "code",
   "execution_count": null,
   "id": "984a69ea-8e5f-454b-848a-452af52c363f",
   "metadata": {},
   "outputs": [],
   "source": []
  }
 ],
 "metadata": {
  "kernelspec": {
   "display_name": "Python 3",
   "language": "python",
   "name": "python3"
  },
  "language_info": {
   "codemirror_mode": {
    "name": "ipython",
    "version": 3
   },
   "file_extension": ".py",
   "mimetype": "text/x-python",
   "name": "python",
   "nbconvert_exporter": "python",
   "pygments_lexer": "ipython3",
   "version": "3.9.1"
  }
 },
 "nbformat": 4,
 "nbformat_minor": 5
}
